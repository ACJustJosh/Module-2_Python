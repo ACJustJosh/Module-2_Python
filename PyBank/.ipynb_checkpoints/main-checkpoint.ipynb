{
 "cells": [
  {
   "cell_type": "code",
   "execution_count": 5,
   "id": "eba5fefd-e2a8-4196-a86e-dcfeb8e1e269",
   "metadata": {},
   "outputs": [
    {
     "name": "stdout",
     "output_type": "stream",
     "text": [
      "{'Jan-2010': 867884, 'Feb-2010': 984655, 'Mar-2010': 322013, 'Apr-2010': -69417, 'May-2010': 310503, 'Jun-2010': 522857, 'Jul-2010': 1033096, 'Aug-2010': 604885, 'Sep-2010': -216386, 'Oct-2010': 477532, 'Nov-2010': 893810, 'Dec-2010': -80353, 'Jan-2011': 779806, 'Feb-2011': -335203, 'Mar-2011': 697845, 'Apr-2011': 793163, 'May-2011': 485070, 'Jun-2011': 584122, 'Jul-2011': 62729, 'Aug-2011': 668179, 'Sep-2011': 899906, 'Oct-2011': 834719, 'Nov-2011': 132003, 'Dec-2011': 309978, 'Jan-2012': -755566, 'Feb-2012': 1170593, 'Mar-2012': 252788, 'Apr-2012': 1151518, 'May-2012': 817256, 'Jun-2012': 570757, 'Jul-2012': 506702, 'Aug-2012': -1022534, 'Sep-2012': 475062, 'Oct-2012': 779976, 'Nov-2012': 144175, 'Dec-2012': 542494, 'Jan-2013': 359333, 'Feb-2013': 321469, 'Mar-2013': 67780, 'Apr-2013': 471435, 'May-2013': 565603, 'Jun-2013': 872480, 'Jul-2013': 789480, 'Aug-2013': 999942, 'Sep-2013': -1196225, 'Oct-2013': 268997, 'Nov-2013': -687986, 'Dec-2013': 1150461, 'Jan-2014': 682458, 'Feb-2014': 617856, 'Mar-2014': 824098, 'Apr-2014': 581943, 'May-2014': 132864, 'Jun-2014': 448062, 'Jul-2014': 689161, 'Aug-2014': 800701, 'Sep-2014': 1166643, 'Oct-2014': 947333, 'Nov-2014': 578668, 'Dec-2014': 988505, 'Jan-2015': 1139715, 'Feb-2015': 1029471, 'Mar-2015': 687533, 'Apr-2015': -524626, 'May-2015': 158620, 'Jun-2015': 87795, 'Jul-2015': 423389, 'Aug-2015': 840723, 'Sep-2015': 568529, 'Oct-2015': 332067, 'Nov-2015': 989499, 'Dec-2015': 778237, 'Jan-2016': 650000, 'Feb-2016': -1100387, 'Mar-2016': -174946, 'Apr-2016': 757143, 'May-2016': 445709, 'Jun-2016': 712961, 'Jul-2016': -1163797, 'Aug-2016': 569899, 'Sep-2016': 768450, 'Oct-2016': 102685, 'Nov-2016': 795914, 'Dec-2016': 60988, 'Jan-2017': 138230, 'Feb-2017': 671099}\n"
     ]
    }
   ],
   "source": [
    "import pathlib\n",
    "import csv\n",
    "\n",
    "csv_path = pathlib.Path(\"Resources/budget_data.csv\") ##Changed to relative filepath.  Analysis generator will work in repo environment\n",
    "with open(csv_path) as csv_file:\n",
    "    csv_reader = csv.reader(csv_file)\n",
    "    next(csv_reader)\n",
    "    budget_dict = {}\n",
    "    for row in csv_reader:\n",
    "        key = row[0]\n",
    "        value = row[1]\n",
    "        budget_dict[key] = int(value)\n",
    "    print(budget_dict) ##To check if dictionary was created and filled with corresponding keys and values "
   ]
  },
  {
   "cell_type": "code",
   "execution_count": 7,
   "id": "04ad57b2-aa5f-4188-a9d3-107e3f90f7fd",
   "metadata": {},
   "outputs": [
    {
     "name": "stdout",
     "output_type": "stream",
     "text": [
      "Financial Analysis\n",
      "-------------------\n",
      "Total Months: 86\n",
      "Total: $38382578\n",
      "Average Change: $446309.05\n",
      "Greatest Increase in Profits: Feb-2012 ($1170593)\n",
      "Greatest Decrease in Profits: Sep-2013 ($-1196225)\n"
     ]
    }
   ],
   "source": [
    "import pathlib\n",
    "import csv\n",
    "\n",
    "csv_path = pathlib.Path(\"Resources/budget_data.csv\") #Changed to relative filepath.  Analysis generator will work in repo environment\n",
    "with open(csv_path) as csv_file:\n",
    "    csv_reader = csv.reader(csv_file)\n",
    "    next(csv_reader)\n",
    "    budget_dict = {}\n",
    "    for row in csv_reader:\n",
    "        key = row[0]\n",
    "        value = row[1]\n",
    "        budget_dict[key] = int(value)\n",
    "\n",
    "    \n",
    "print(f\"Financial Analysis\")\n",
    "print(f\"-------------------\")\n",
    "\n",
    "num_items = len(budget_dict)\n",
    "print(f\"Total Months: {num_items}\")\n",
    "\n",
    "total = sum(budget_dict.values())\n",
    "print(f\"Total: ${total}\")\n",
    "\n",
    "total = sum(budget_dict.values())\n",
    "average = total / len(budget_dict)\n",
    "print(f\"Average Change: ${average:.2f}\")\n",
    "\n",
    "max_gain = max(budget_dict, key=budget_dict.get)\n",
    "print(f\"Greatest Increase in Profits: {max_gain} (${budget_dict[max_gain]})\")\n",
    "\n",
    "max_loss = min(budget_dict, key=budget_dict.get)\n",
    "print(f\"Greatest Decrease in Profits: {max_loss} (${budget_dict[max_loss]})\")\n",
    "\n",
    "output_file_path = pathlib.Path(\"Reports\", \"financial_statement.txt\")\n",
    "\n",
    "with open(output_file_path, 'w') as txt_file:\n",
    "    txt_file.write(f\"Financial Analysis\\n\")\n",
    "    txt_file.write(f\"----------------------------\\n\")\n",
    "    txt_file.write(f\"Total Months: {num_items}\\n\")\n",
    "    txt_file.write(f\"Total: ${total}\\n\")\n",
    "    txt_file.write(f\"Average Change: ${average:.2f}\\n\")\n",
    "    txt_file.write(f\"Greatest Increase in Profits: {max_gain} ${budget_dict[max_gain]}\\n\")\n",
    "    txt_file.write(f\"Greatest Decrease in Profits: {max_loss} ${budget_dict[max_loss]}\\n\")"
   ]
  },
  {
   "cell_type": "code",
   "execution_count": null,
   "id": "94785ee0-05ae-434f-b86c-1e3bd1a655ab",
   "metadata": {},
   "outputs": [],
   "source": []
  }
 ],
 "metadata": {
  "kernelspec": {
   "display_name": "Python 3 (ipykernel)",
   "language": "python",
   "name": "python3"
  },
  "language_info": {
   "codemirror_mode": {
    "name": "ipython",
    "version": 3
   },
   "file_extension": ".py",
   "mimetype": "text/x-python",
   "name": "python",
   "nbconvert_exporter": "python",
   "pygments_lexer": "ipython3",
   "version": "3.7.13"
  }
 },
 "nbformat": 4,
 "nbformat_minor": 5
}
